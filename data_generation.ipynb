{
 "cells": [
  {
   "cell_type": "code",
   "execution_count": 2,
   "metadata": {},
   "outputs": [],
   "source": [
    "import torch\n",
    "import numpy as np\n",
    "from torch.utils.data import Dataset, DataLoader"
   ]
  },
  {
   "cell_type": "code",
   "execution_count": 3,
   "metadata": {},
   "outputs": [],
   "source": [
    "class FourierSeriesDataset(Dataset):\n",
    "    def __init__(self, num_samples, num_points, max_terms=10):\n",
    "        self.num_samples = num_samples\n",
    "        self.num_points = num_points\n",
    "        self.max_terms = max_terms\n",
    "        self.x = torch.linspace(0, 2*np.pi, num_points, requires_grad=True)\n",
    "        self.functions, self.derivatives = self.generate_data()\n",
    "\n",
    "    def generate_data(self):\n",
    "        functions = []\n",
    "        derivatives = []\n",
    "\n",
    "        for _ in range(self.num_samples):\n",
    "            # Generate random complex coefficients\n",
    "            n_terms = np.random.randint(1, self.max_terms + 1)\n",
    "            c = torch.complex(torch.randn(2*n_terms+1), torch.randn(2*n_terms+1))\n",
    "\n",
    "            # Compute function values\n",
    "            y = self.complex_fourier_series(self.x, c)\n",
    "            functions.append(y.detach().numpy())\n",
    "\n",
    "            # Compute derivative\n",
    "            dy_dx = torch.autograd.grad(y, self.x, grad_outputs=torch.ones_like(y), create_graph=True)[0]\n",
    "            derivatives.append(dy_dx.detach().numpy())\n",
    "\n",
    "        return np.array(functions), np.array(derivatives)\n",
    "\n",
    "    def complex_fourier_series(self, x, c, P=2*np.pi):\n",
    "        result = torch.zeros_like(x, dtype=torch.complex64)\n",
    "        for n in range(-len(c)//2, len(c)//2 + 1):\n",
    "            result += c[n + len(c)//2] * torch.exp(1j * 2 * np.pi * n * x / P)\n",
    "        return result.real\n",
    "\n",
    "    def __len__(self):\n",
    "        return self.num_samples\n",
    "\n",
    "    def __getitem__(self, idx):\n",
    "        return torch.FloatTensor(self.functions[idx]), torch.FloatTensor(self.derivatives[idx])\n",
    "\n",
    "# Generate dataset\n",
    "num_samples = 10000\n",
    "num_points = 1000\n",
    "dataset = FourierSeriesDataset(num_samples, num_points)\n",
    "\n",
    "# Create DataLoader\n",
    "batch_size = 32\n",
    "dataloader = DataLoader(dataset, batch_size=batch_size, shuffle=True)\n",
    "torch.save(dataset, 'derivative_dataset.pt')\n",
    "\n",
    "    "
   ]
  }
 ],
 "metadata": {
  "kernelspec": {
   "display_name": "sciml2",
   "language": "python",
   "name": "python3"
  },
  "language_info": {
   "codemirror_mode": {
    "name": "ipython",
    "version": 3
   },
   "file_extension": ".py",
   "mimetype": "text/x-python",
   "name": "python",
   "nbconvert_exporter": "python",
   "pygments_lexer": "ipython3",
   "version": "3.9.19"
  }
 },
 "nbformat": 4,
 "nbformat_minor": 2
}
